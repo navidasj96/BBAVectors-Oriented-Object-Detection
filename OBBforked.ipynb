{
  "nbformat": 4,
  "nbformat_minor": 0,
  "metadata": {
    "colab": {
      "name": "OBBforked.ipynb",
      "provenance": [],
      "machine_shape": "hm",
      "authorship_tag": "ABX9TyN+I9o+OLoRATDQ891NwIz5",
      "include_colab_link": true
    },
    "kernelspec": {
      "name": "python3",
      "display_name": "Python 3"
    },
    "language_info": {
      "name": "python"
    },
    "accelerator": "GPU"
  },
  "cells": [
    {
      "cell_type": "markdown",
      "metadata": {
        "id": "view-in-github",
        "colab_type": "text"
      },
      "source": [
        "<a href=\"https://colab.research.google.com/github/navidasj96/BBAVectors-Oriented-Object-Detection/blob/master/OBBforked.ipynb\" target=\"_parent\"><img src=\"https://colab.research.google.com/assets/colab-badge.svg\" alt=\"Open In Colab\"/></a>"
      ]
    },
    {
      "cell_type": "code",
      "execution_count": 1,
      "metadata": {
        "colab": {
          "base_uri": "https://localhost:8080/"
        },
        "id": "NY05RVGgPhQI",
        "outputId": "45d54355-cc8c-4fa6-f96b-3f8ad9208ec5"
      },
      "outputs": [
        {
          "output_type": "stream",
          "name": "stdout",
          "text": [
            "Cloning into 'BBAVectors-Oriented-Object-Detection'...\n",
            "remote: Enumerating objects: 203, done.\u001b[K\n",
            "remote: Counting objects: 100% (86/86), done.\u001b[K\n",
            "remote: Compressing objects: 100% (21/21), done.\u001b[K\n",
            "remote: Total 203 (delta 72), reused 66 (delta 65), pack-reused 117\u001b[K\n",
            "Receiving objects: 100% (203/203), 174.32 KiB | 8.72 MiB/s, done.\n",
            "Resolving deltas: 100% (112/112), done.\n"
          ]
        }
      ],
      "source": [
        "!git clone https://github.com/navidasj96/BBAVectors-Oriented-Object-Detection.git"
      ]
    },
    {
      "cell_type": "code",
      "source": [
        "cd /content/BBAVectors-Oriented-Object-Detection/datasets"
      ],
      "metadata": {
        "colab": {
          "base_uri": "https://localhost:8080/"
        },
        "id": "IHqWGSFvP67Y",
        "outputId": "e58fb138-bad6-4ee4-8887-e478bcb759f4"
      },
      "execution_count": 2,
      "outputs": [
        {
          "output_type": "stream",
          "name": "stdout",
          "text": [
            "/content/BBAVectors-Oriented-Object-Detection/datasets\n"
          ]
        }
      ]
    },
    {
      "cell_type": "code",
      "source": [
        "!git clone https://github.com/ashnair1/dotadevkit.git"
      ],
      "metadata": {
        "colab": {
          "base_uri": "https://localhost:8080/"
        },
        "id": "7es2oLOoQJIM",
        "outputId": "6c94d407-3247-4cc2-9a96-9311286a5bd2"
      },
      "execution_count": 3,
      "outputs": [
        {
          "output_type": "stream",
          "name": "stdout",
          "text": [
            "Cloning into 'dotadevkit'...\n",
            "remote: Enumerating objects: 548, done.\u001b[K\n",
            "remote: Counting objects: 100% (28/28), done.\u001b[K\n",
            "remote: Compressing objects: 100% (12/12), done.\u001b[K\n",
            "remote: Total 548 (delta 20), reused 16 (delta 16), pack-reused 520\u001b[K\n",
            "Receiving objects: 100% (548/548), 96.71 MiB | 34.92 MiB/s, done.\n",
            "Resolving deltas: 100% (267/267), done.\n"
          ]
        }
      ]
    },
    {
      "cell_type": "code",
      "source": [
        ""
      ],
      "metadata": {
        "id": "CCrSmrpYQKUU"
      },
      "execution_count": null,
      "outputs": []
    }
  ]
}